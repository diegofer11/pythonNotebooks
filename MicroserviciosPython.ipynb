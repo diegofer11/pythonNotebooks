{
  "nbformat": 4,
  "nbformat_minor": 0,
  "metadata": {
    "colab": {
      "name": "MicroserviciosPython.ipynb",
      "provenance": [],
      "collapsed_sections": [],
      "mount_file_id": "1UnxhxLNfZ1tsVNhBNYOmzbhljIntBokd",
      "authorship_tag": "ABX9TyOyDn6S+XkQjYPYv73KE4Yw",
      "include_colab_link": true
    },
    "kernelspec": {
      "name": "python3",
      "display_name": "Python 3"
    }
  },
  "cells": [
    {
      "cell_type": "markdown",
      "metadata": {
        "id": "view-in-github",
        "colab_type": "text"
      },
      "source": [
        "<a href=\"https://colab.research.google.com/github/diegofer11/pythonNotebooks/blob/master/MicroserviciosPython.ipynb\" target=\"_parent\"><img src=\"https://colab.research.google.com/assets/colab-badge.svg\" alt=\"Open In Colab\"/></a>"
      ]
    },
    {
      "cell_type": "markdown",
      "metadata": {
        "id": "PO83n7HmYSTf",
        "colab_type": "text"
      },
      "source": [
        "instalar nueva librería xmltodict"
      ]
    },
    {
      "cell_type": "code",
      "metadata": {
        "id": "g_nYu9sEWDyn",
        "colab_type": "code",
        "colab": {
          "base_uri": "https://localhost:8080/",
          "height": 85
        },
        "outputId": "651aa81f-381d-4f65-cfa4-f36781243d11"
      },
      "source": [
        "pip install xmltodict"
      ],
      "execution_count": 1,
      "outputs": [
        {
          "output_type": "stream",
          "text": [
            "Collecting xmltodict\n",
            "  Downloading https://files.pythonhosted.org/packages/28/fd/30d5c1d3ac29ce229f6bdc40bbc20b28f716e8b363140c26eff19122d8a5/xmltodict-0.12.0-py2.py3-none-any.whl\n",
            "Installing collected packages: xmltodict\n",
            "Successfully installed xmltodict-0.12.0\n"
          ],
          "name": "stdout"
        }
      ]
    },
    {
      "cell_type": "code",
      "metadata": {
        "id": "C5NnjvMwX0_q",
        "colab_type": "code",
        "colab": {}
      },
      "source": [
        "import json\n",
        "import xmltodict\n",
        "import timeit"
      ],
      "execution_count": 7,
      "outputs": []
    },
    {
      "cell_type": "markdown",
      "metadata": {
        "id": "O7tT4MMycOSb",
        "colab_type": "text"
      },
      "source": [
        "The slowest run took 15.77 times longer than the fastest. This could mean that an intermediate result is being cached.\n",
        "10000 loops, best of 3: 27.3 µs per loop"
      ]
    },
    {
      "cell_type": "code",
      "metadata": {
        "id": "Lek0fbdkZOMd",
        "colab_type": "code",
        "colab": {
          "base_uri": "https://localhost:8080/",
          "height": 34
        },
        "outputId": "f28178c1-96a4-4b92-cccc-070cbc7cb22d"
      },
      "source": [
        "%%timeit\n",
        "with open('/content/drive/My Drive/ArchivosEjemplo/simple.json') as json_file:\n",
        "  data = json.load(json_file)\n",
        "  json_file.close()"
      ],
      "execution_count": 16,
      "outputs": [
        {
          "output_type": "stream",
          "text": [
            "1000 loops, best of 3: 912 µs per loop\n"
          ],
          "name": "stdout"
        }
      ]
    },
    {
      "cell_type": "markdown",
      "metadata": {
        "id": "sV_g481Jcaz4",
        "colab_type": "text"
      },
      "source": [
        "10000 loops, best of 3: 163 µs per loop"
      ]
    },
    {
      "cell_type": "code",
      "metadata": {
        "id": "Xyh1rVNEbJ3r",
        "colab_type": "code",
        "colab": {
          "base_uri": "https://localhost:8080/",
          "height": 34
        },
        "outputId": "606a5759-6f38-488d-81d0-cadcf9e187e7"
      },
      "source": [
        "%%timeit\n",
        "with open('/content/drive/My Drive/ArchivosEjemplo/simple.xml') as xml_file:\n",
        "  data = xmltodict.parse(xml_file.read())\n",
        "  # print(data)\n",
        "  xml_file.close()"
      ],
      "execution_count": 17,
      "outputs": [
        {
          "output_type": "stream",
          "text": [
            "1000 loops, best of 3: 1.09 ms per loop\n"
          ],
          "name": "stdout"
        }
      ]
    },
    {
      "cell_type": "markdown",
      "metadata": {
        "id": "vHawyMy8clLD",
        "colab_type": "text"
      },
      "source": [
        "Cargando generated.json The slowest run took 5.02 times longer than the fastest. This could mean that an intermediate result is being cached.\n",
        "10000 loops, best of 3: 193 µs per loop"
      ]
    },
    {
      "cell_type": "code",
      "metadata": {
        "id": "Yc_RxpOOcc-l",
        "colab_type": "code",
        "colab": {
          "base_uri": "https://localhost:8080/",
          "height": 34
        },
        "outputId": "bb43c39b-81fc-45a3-fc41-ac88fdba6337"
      },
      "source": [
        "%%timeit\n",
        "with open('/content/drive/My Drive/ArchivosEjemplo/generated.json') as json_file:\n",
        "  data = json.load(json_file)\n",
        "  json_file.close()"
      ],
      "execution_count": 18,
      "outputs": [
        {
          "output_type": "stream",
          "text": [
            "1000 loops, best of 3: 1.17 ms per loop\n"
          ],
          "name": "stdout"
        }
      ]
    },
    {
      "cell_type": "markdown",
      "metadata": {
        "id": "h3RTvw_CcoYE",
        "colab_type": "text"
      },
      "source": [
        "Cargando generated.xml 100 loops, best of 3: 4.26 ms per loop"
      ]
    },
    {
      "cell_type": "code",
      "metadata": {
        "id": "8WO7SEQ_crG-",
        "colab_type": "code",
        "colab": {
          "base_uri": "https://localhost:8080/",
          "height": 34
        },
        "outputId": "46dc92fb-65d9-4084-8b1c-32cf17ad9dfd"
      },
      "source": [
        "%%timeit\n",
        "with open('/content/drive/My Drive/ArchivosEjemplo/generated.xml') as xml_file:\n",
        "  data = xmltodict.parse(xml_file.read())\n",
        "  # print(data)\n",
        "  xml_file.close()"
      ],
      "execution_count": 19,
      "outputs": [
        {
          "output_type": "stream",
          "text": [
            "100 loops, best of 3: 5.02 ms per loop\n"
          ],
          "name": "stdout"
        }
      ]
    },
    {
      "cell_type": "markdown",
      "metadata": {
        "id": "wJ1KbTn7dNHg",
        "colab_type": "text"
      },
      "source": [
        "Tarea: Revisar los tiempos de acceso a un dato dentro de la estructura, tanto del JSON como del XML. (generated)"
      ]
    }
  ]
}